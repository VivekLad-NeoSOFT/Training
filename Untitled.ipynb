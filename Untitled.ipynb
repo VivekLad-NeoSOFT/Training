{
 "cells": [
  {
   "cell_type": "code",
   "execution_count": 37,
   "id": "5c6ea477-9a01-4883-b0cf-4b71860dd2fb",
   "metadata": {},
   "outputs": [],
   "source": [
    "import pandas as pd"
   ]
  },
  {
   "cell_type": "code",
   "execution_count": 45,
   "id": "8ce19f6e-3181-413c-8832-4fc08cedb4e6",
   "metadata": {},
   "outputs": [
    {
     "data": {
      "text/plain": [
       "Index(['January', 'February', 'March'], dtype='object')"
      ]
     },
     "execution_count": 45,
     "metadata": {},
     "output_type": "execute_result"
    }
   ],
   "source": [
    "idx = pd.date_range(start='2018-01', freq='ME', periods=3)\n",
    "idx.month_name()"
   ]
  },
  {
   "cell_type": "code",
   "execution_count": null,
   "id": "729f080d-e2c1-47d6-8683-e6fae971fca5",
   "metadata": {},
   "outputs": [],
   "source": []
  }
 ],
 "metadata": {
  "kernelspec": {
   "display_name": "Python 3 (ipykernel)",
   "language": "python",
   "name": "python3"
  },
  "language_info": {
   "codemirror_mode": {
    "name": "ipython",
    "version": 3
   },
   "file_extension": ".py",
   "mimetype": "text/x-python",
   "name": "python",
   "nbconvert_exporter": "python",
   "pygments_lexer": "ipython3",
   "version": "3.12.10"
  }
 },
 "nbformat": 4,
 "nbformat_minor": 5
}
