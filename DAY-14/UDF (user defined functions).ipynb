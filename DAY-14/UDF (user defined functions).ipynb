{
 "cells": [
  {
   "cell_type": "markdown",
   "metadata": {
    "application/vnd.databricks.v1+cell": {
     "cellMetadata": {},
     "inputWidgets": {},
     "nuid": "2cd21943-2df8-4310-ad66-0a0ab98ebd15",
     "showTitle": false,
     "tableResultSettingsMap": {},
     "title": ""
    }
   },
   "source": [
    "- UDFs can be less efficient than built-in functions due to serialization and deserialization overhead between the JVM and Python. For better performance, consider using built-in functions or pandas UDFs when possible."
   ]
  },
  {
   "cell_type": "code",
   "execution_count": 0,
   "metadata": {
    "application/vnd.databricks.v1+cell": {
     "cellMetadata": {
      "byteLimit": 2048000,
      "rowLimit": 10000
     },
     "inputWidgets": {},
     "nuid": "9da2ad15-edf9-41a1-a835-5c5f6c0b58f3",
     "showTitle": false,
     "tableResultSettingsMap": {},
     "title": ""
    }
   },
   "outputs": [],
   "source": [
    "from pyspark.sql.functions import udf\n",
    "from pyspark.sql.types import StringType"
   ]
  },
  {
   "cell_type": "code",
   "execution_count": 0,
   "metadata": {
    "application/vnd.databricks.v1+cell": {
     "cellMetadata": {
      "byteLimit": 2048000,
      "rowLimit": 10000
     },
     "inputWidgets": {},
     "nuid": "0c2ff1d8-39be-45ae-8d7b-ca42ef656a2d",
     "showTitle": false,
     "tableResultSettingsMap": {},
     "title": ""
    }
   },
   "outputs": [],
   "source": [
    "def to_upper_case(text):\n",
    "    return text.upper()\n",
    "\n",
    "\n",
    "upper_case_udf = udf(to_upper_case, StringType())"
   ]
  },
  {
   "cell_type": "code",
   "execution_count": 0,
   "metadata": {
    "application/vnd.databricks.v1+cell": {
     "cellMetadata": {
      "byteLimit": 2048000,
      "rowLimit": 10000
     },
     "inputWidgets": {},
     "nuid": "3a47f953-3aaf-4c10-99cb-7198f69f12af",
     "showTitle": false,
     "tableResultSettingsMap": {},
     "title": ""
    }
   },
   "outputs": [
    {
     "output_type": "stream",
     "name": "stdout",
     "output_type": "stream",
     "text": [
      "+-------+----------+\n|   name|upper_name|\n+-------+----------+\n|  Alice|     ALICE|\n|    Bob|       BOB|\n|Charlie|   CHARLIE|\n+-------+----------+\n\n"
     ]
    }
   ],
   "source": [
    "data = [(\"Alice\",), (\"Bob\",), (\"Charlie\",)]\n",
    "df = spark.createDataFrame(data, [\"name\"])\n",
    "\n",
    "df = df.withColumn(\"upper_name\", upper_case_udf(df[\"name\"]))\n",
    "df.show()"
   ]
  }
 ],
 "metadata": {
  "application/vnd.databricks.v1+notebook": {
   "computePreferences": null,
   "dashboards": [],
   "environmentMetadata": {
    "base_environment": "",
    "environment_version": "1"
   },
   "inputWidgetPreferences": null,
   "language": "python",
   "notebookMetadata": {
    "pythonIndentUnit": 4
   },
   "notebookName": "UDF (user defined functions)",
   "widgets": {}
  }
 },
 "nbformat": 4,
 "nbformat_minor": 0
}