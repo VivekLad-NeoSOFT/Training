{
 "cells": [
  {
   "cell_type": "code",
   "execution_count": 0,
   "metadata": {
    "application/vnd.databricks.v1+cell": {
     "cellMetadata": {
      "byteLimit": 2048000,
      "rowLimit": 10000
     },
     "inputWidgets": {},
     "nuid": "59b10251-8f60-4407-80ff-8ab36a306bd0",
     "showTitle": false,
     "tableResultSettingsMap": {},
     "title": ""
    }
   },
   "outputs": [],
   "source": [
    "from pyspark.sql.functions import col, lower, upper"
   ]
  },
  {
   "cell_type": "code",
   "execution_count": 0,
   "metadata": {
    "application/vnd.databricks.v1+cell": {
     "cellMetadata": {
      "byteLimit": 2048000,
      "rowLimit": 10000
     },
     "collapsed": true,
     "inputWidgets": {},
     "nuid": "5bf8dc1f-121f-4119-af28-7803c729f861",
     "showTitle": false,
     "tableResultSettingsMap": {},
     "title": ""
    }
   },
   "outputs": [
    {
     "output_type": "stream",
     "name": "stdout",
     "output_type": "stream",
     "text": [
      "+-----------+----------+----------+\n|customer_id|first_name| last_name|\n+-----------+----------+----------+\n|          1|       Don|  Ollander|\n|          2|     Jolee|    Ziemen|\n|          3|    Maddie|    Sewley|\n|          4|    Lolita|   Meadway|\n|          5|   Kennedy|    Debell|\n|          6|      Geri|  Picknett|\n|          7|  Tiphanie|Reynoollds|\n|          8|    Helena|     Clymo|\n|          9|      Enos|  Arbuckle|\n|         10|      Ibby|    Howard|\n|         11|     Lindy| Wasbrough|\n|         12|  Bethanne|Taffarello|\n|         13|   Erasmus|    Tackle|\n|         14|     Sophi|  McMeekin|\n|         15|     Katha|    Lannen|\n|         16|   Steffen|     Danks|\n|         17|     Josie|  Coalbran|\n|         18|   Carolee|   Jemison|\n|         19|     Danit| Lukehurst|\n|         20|    Hayley|    Abrahm|\n+-----------+----------+----------+\n\n"
     ]
    }
   ],
   "source": [
    "customer_data = [\n",
    "    {\n",
    "        \"customer_id\": 1,\n",
    "        \"first_name\": \"Don\",\n",
    "        \"last_name\": \"Ollander\",\n",
    "    },\n",
    "    {\n",
    "        \"customer_id\": 2,\n",
    "        \"first_name\": \"Jolee\",\n",
    "        \"last_name\": \"Ziemen\",\n",
    "    },\n",
    "    {\n",
    "        \"customer_id\": 3,\n",
    "        \"first_name\": \"Maddie\",\n",
    "        \"last_name\": \"Sewley\",\n",
    "    },\n",
    "    {\n",
    "        \"customer_id\": 4,\n",
    "        \"first_name\": \"Lolita\",\n",
    "        \"last_name\": \"Meadway\",\n",
    "    },\n",
    "    {\n",
    "        \"customer_id\": 5,\n",
    "        \"first_name\": \"Kennedy\",\n",
    "        \"last_name\": \"Debell\",\n",
    "    },\n",
    "    {\n",
    "        \"customer_id\": 6,\n",
    "        \"first_name\": \"Geri\",\n",
    "        \"last_name\": \"Picknett\",\n",
    "    },\n",
    "    {\n",
    "        \"customer_id\": 7,\n",
    "        \"first_name\": \"Tiphanie\",\n",
    "        \"last_name\": \"Reynoollds\",\n",
    "    },\n",
    "    {\n",
    "        \"customer_id\": 8,\n",
    "        \"first_name\": \"Helena\",\n",
    "        \"last_name\": \"Clymo\",\n",
    "    },\n",
    "    {\n",
    "        \"customer_id\": 9,\n",
    "        \"first_name\": \"Enos\",\n",
    "        \"last_name\": \"Arbuckle\",\n",
    "    },\n",
    "    {\n",
    "        \"customer_id\": 10,\n",
    "        \"first_name\": \"Ibby\",\n",
    "        \"last_name\": \"Howard\",\n",
    "    },\n",
    "    {\n",
    "        \"customer_id\": 11,\n",
    "        \"first_name\": \"Lindy\",\n",
    "        \"last_name\": \"Wasbrough\",\n",
    "    },\n",
    "    {\n",
    "        \"customer_id\": 12,\n",
    "        \"first_name\": \"Bethanne\",\n",
    "        \"last_name\": \"Taffarello\",\n",
    "    },\n",
    "    {\n",
    "        \"customer_id\": 13,\n",
    "        \"first_name\": \"Erasmus\",\n",
    "        \"last_name\": \"Tackle\",\n",
    "    },\n",
    "    {\n",
    "        \"customer_id\": 14,\n",
    "        \"first_name\": \"Sophi\",\n",
    "        \"last_name\": \"McMeekin\",\n",
    "    },\n",
    "    {\n",
    "        \"customer_id\": 15,\n",
    "        \"first_name\": \"Katha\",\n",
    "        \"last_name\": \"Lannen\",\n",
    "    },\n",
    "    {\n",
    "        \"customer_id\": 16,\n",
    "        \"first_name\": \"Steffen\",\n",
    "        \"last_name\": \"Danks\",\n",
    "    },\n",
    "    {\n",
    "        \"customer_id\": 17,\n",
    "        \"first_name\": \"Josie\",\n",
    "        \"last_name\": \"Coalbran\",\n",
    "    },\n",
    "    {\n",
    "        \"customer_id\": 18,\n",
    "        \"first_name\": \"Carolee\",\n",
    "        \"last_name\": \"Jemison\",\n",
    "    },\n",
    "    {\n",
    "        \"customer_id\": 19,\n",
    "        \"first_name\": \"Danit\",\n",
    "        \"last_name\": \"Lukehurst\",\n",
    "    },\n",
    "    {\n",
    "        \"customer_id\": 20,\n",
    "        \"first_name\": \"Hayley\",\n",
    "        \"last_name\": \"Abrahm\",\n",
    "    },\n",
    "]\n",
    "\n",
    "schema = [\n",
    "    \"customer_id\",\n",
    "    \"first_name\",\n",
    "    \"last_name\",\n",
    "]\n",
    "\n",
    "df = spark.createDataFrame(data=customer_data, schema=schema)\n",
    "df.show()"
   ]
  },
  {
   "cell_type": "code",
   "execution_count": 0,
   "metadata": {
    "application/vnd.databricks.v1+cell": {
     "cellMetadata": {
      "byteLimit": 2048000,
      "rowLimit": 10000
     },
     "inputWidgets": {},
     "nuid": "d166da25-8f0b-4062-93d1-63d936fc3c2e",
     "showTitle": false,
     "tableResultSettingsMap": {},
     "title": ""
    }
   },
   "outputs": [
    {
     "output_type": "stream",
     "name": "stdout",
     "output_type": "stream",
     "text": [
      "+-----------+----------+----------+\n|customer_id|first_name| last_name|\n+-----------+----------+----------+\n|          6|      Geri|  Picknett|\n|          7|  Tiphanie|Reynoollds|\n|          8|    Helena|     Clymo|\n|          9|      Enos|  Arbuckle|\n|         10|      Ibby|    Howard|\n|         11|     Lindy| Wasbrough|\n|         12|  Bethanne|Taffarello|\n|         13|   Erasmus|    Tackle|\n|         14|     Sophi|  McMeekin|\n|         15|     Katha|    Lannen|\n|         16|   Steffen|     Danks|\n|         17|     Josie|  Coalbran|\n|         18|   Carolee|   Jemison|\n|         19|     Danit| Lukehurst|\n|         20|    Hayley|    Abrahm|\n+-----------+----------+----------+\n\n"
     ]
    }
   ],
   "source": [
    "df.filter(col(\"customer_id\") > 5).show()"
   ]
  },
  {
   "cell_type": "code",
   "execution_count": 0,
   "metadata": {
    "application/vnd.databricks.v1+cell": {
     "cellMetadata": {
      "byteLimit": 2048000,
      "rowLimit": 10000
     },
     "inputWidgets": {},
     "nuid": "d5b88b7b-65b6-4d45-93b0-b4e005aa788a",
     "showTitle": false,
     "tableResultSettingsMap": {},
     "title": ""
    }
   },
   "outputs": [
    {
     "output_type": "stream",
     "name": "stdout",
     "output_type": "stream",
     "text": [
      "+-----------+----------+----------+\n|customer_id|first_name| last_name|\n+-----------+----------+----------+\n|          6|      Geri|  Picknett|\n|          7|  Tiphanie|Reynoollds|\n|          8|    Helena|     Clymo|\n|          9|      Enos|  Arbuckle|\n|         10|      Ibby|    Howard|\n+-----------+----------+----------+\n\n"
     ]
    }
   ],
   "source": [
    "df.filter((col(\"customer_id\") > 5) & (col(\"customer_id\") < 11)).show()"
   ]
  },
  {
   "cell_type": "code",
   "execution_count": 0,
   "metadata": {
    "application/vnd.databricks.v1+cell": {
     "cellMetadata": {
      "byteLimit": 2048000,
      "rowLimit": 10000
     },
     "inputWidgets": {},
     "nuid": "271d1eb5-1e36-4a3d-81a0-564e700ab324",
     "showTitle": false,
     "tableResultSettingsMap": {},
     "title": ""
    }
   },
   "outputs": [
    {
     "output_type": "stream",
     "name": "stdout",
     "output_type": "stream",
     "text": [
      "+-----------+----------+---------+\n|customer_id|first_name|last_name|\n+-----------+----------+---------+\n|          1|       Don| Ollander|\n|         19|     Danit|Lukehurst|\n+-----------+----------+---------+\n\n+-----------+----------+----------+\n|customer_id|first_name| last_name|\n+-----------+----------+----------+\n|          2|     Jolee|    Ziemen|\n|          3|    Maddie|    Sewley|\n|          5|   Kennedy|    Debell|\n|          6|      Geri|  Picknett|\n|          7|  Tiphanie|Reynoollds|\n|          8|    Helena|     Clymo|\n|          9|      Enos|  Arbuckle|\n|         12|  Bethanne|Taffarello|\n|         13|   Erasmus|    Tackle|\n|         16|   Steffen|     Danks|\n|         17|     Josie|  Coalbran|\n|         18|   Carolee|   Jemison|\n|         20|    Hayley|    Abrahm|\n+-----------+----------+----------+\n\n"
     ]
    }
   ],
   "source": [
    "# contains\n",
    "df.filter(col(\"first_name\").contains(\"D\")).show()\n",
    "df.filter(lower(col(\"first_name\")).contains(\"e\")).show()"
   ]
  },
  {
   "cell_type": "code",
   "execution_count": 0,
   "metadata": {
    "application/vnd.databricks.v1+cell": {
     "cellMetadata": {
      "byteLimit": 2048000,
      "rowLimit": 10000
     },
     "inputWidgets": {},
     "nuid": "7d874587-cba0-4be4-9948-d0311ee4fd2e",
     "showTitle": false,
     "tableResultSettingsMap": {},
     "title": ""
    }
   },
   "outputs": [
    {
     "output_type": "stream",
     "name": "stdout",
     "output_type": "stream",
     "text": [
      "+-----------+----------+---------+\n|customer_id|first_name|last_name|\n+-----------+----------+---------+\n|          3|    Maddie|   Sewley|\n+-----------+----------+---------+\n\n+-----------+----------+---------+\n|customer_id|first_name|last_name|\n+-----------+----------+---------+\n|          5|   Kennedy|   Debell|\n|         10|      Ibby|   Howard|\n|         11|     Lindy|Wasbrough|\n|         20|    Hayley|   Abrahm|\n+-----------+----------+---------+\n\n"
     ]
    }
   ],
   "source": [
    "df.filter(\"upper(first_name) LIKE 'M%'\").show()\n",
    "df.filter(\"lower(first_name) LIKE '%y'\").show()"
   ]
  }
 ],
 "metadata": {
  "application/vnd.databricks.v1+notebook": {
   "computePreferences": null,
   "dashboards": [],
   "environmentMetadata": {
    "base_environment": "",
    "environment_version": "1"
   },
   "inputWidgetPreferences": null,
   "language": "python",
   "notebookMetadata": {
    "pythonIndentUnit": 4
   },
   "notebookName": "Filter, Contains, Like",
   "widgets": {}
  }
 },
 "nbformat": 4,
 "nbformat_minor": 0
}