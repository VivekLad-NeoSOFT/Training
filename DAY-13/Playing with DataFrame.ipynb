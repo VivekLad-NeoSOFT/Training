{
 "cells": [
  {
   "cell_type": "code",
   "execution_count": 0,
   "metadata": {
    "application/vnd.databricks.v1+cell": {
     "cellMetadata": {
      "byteLimit": 2048000,
      "rowLimit": 10000
     },
     "inputWidgets": {},
     "nuid": "5caa21d0-2de5-4f8f-a994-65e6f1e5f1fd",
     "showTitle": false,
     "tableResultSettingsMap": {},
     "title": ""
    }
   },
   "outputs": [],
   "source": [
    "data = [\n",
    "    {\n",
    "        \"customer_id\": 1,\n",
    "        \"first_name\": \"Don\",\n",
    "        \"last_name\": \"Ollander\",\n",
    "    },\n",
    "    {\n",
    "        \"customer_id\": 2,\n",
    "        \"first_name\": \"Jolee\",\n",
    "        \"last_name\": \"Ziemen\",\n",
    "    },\n",
    "    {\n",
    "        \"customer_id\": 3,\n",
    "        \"first_name\": \"Maddie\",\n",
    "        \"last_name\": \"Sewley\",\n",
    "    },\n",
    "    {\n",
    "        \"customer_id\": 4,\n",
    "        \"first_name\": \"Lolita\",\n",
    "        \"last_name\": \"Meadway\",\n",
    "    },\n",
    "    {\n",
    "        \"customer_id\": 5,\n",
    "        \"first_name\": \"Kennedy\",\n",
    "        \"last_name\": \"Debell\",\n",
    "    },\n",
    "]"
   ]
  },
  {
   "cell_type": "code",
   "execution_count": 0,
   "metadata": {
    "application/vnd.databricks.v1+cell": {
     "cellMetadata": {
      "byteLimit": 2048000,
      "rowLimit": 10000
     },
     "inputWidgets": {},
     "nuid": "be0796e5-d968-46b5-acda-b38dca2d666b",
     "showTitle": false,
     "tableResultSettingsMap": {},
     "title": ""
    }
   },
   "outputs": [],
   "source": [
    "schema = [\"customer_id\", \"first_name\", \"last_name\"]"
   ]
  },
  {
   "cell_type": "code",
   "execution_count": 0,
   "metadata": {
    "application/vnd.databricks.v1+cell": {
     "cellMetadata": {
      "byteLimit": 2048000,
      "rowLimit": 10000
     },
     "inputWidgets": {},
     "nuid": "7863db4e-88c8-43dd-a789-bd7727fd9c8d",
     "showTitle": false,
     "tableResultSettingsMap": {},
     "title": ""
    }
   },
   "outputs": [
    {
     "output_type": "stream",
     "name": "stdout",
     "output_type": "stream",
     "text": [
      "+-----------+----------+---------+\n|customer_id|first_name|last_name|\n+-----------+----------+---------+\n|          1|       Don| Ollander|\n|          2|     Jolee|   Ziemen|\n|          3|    Maddie|   Sewley|\n|          4|    Lolita|  Meadway|\n|          5|   Kennedy|   Debell|\n+-----------+----------+---------+\n\n"
     ]
    }
   ],
   "source": [
    "df = spark.createDataFrame(data=data, schema=schema)\n",
    "df.show()"
   ]
  },
  {
   "cell_type": "code",
   "execution_count": 0,
   "metadata": {
    "application/vnd.databricks.v1+cell": {
     "cellMetadata": {
      "byteLimit": 2048000,
      "rowLimit": 10000
     },
     "inputWidgets": {},
     "nuid": "02c7969e-4f7b-427e-a5dd-80e28856b83e",
     "showTitle": false,
     "tableResultSettingsMap": {},
     "title": ""
    }
   },
   "outputs": [
    {
     "output_type": "stream",
     "name": "stdout",
     "output_type": "stream",
     "text": [
      "root\n |-- customer_id: long (nullable = true)\n |-- first_name: string (nullable = true)\n |-- last_name: string (nullable = true)\n\n"
     ]
    }
   ],
   "source": [
    "df.printSchema()"
   ]
  },
  {
   "cell_type": "code",
   "execution_count": 0,
   "metadata": {
    "application/vnd.databricks.v1+cell": {
     "cellMetadata": {
      "byteLimit": 2048000,
      "rowLimit": 10000
     },
     "inputWidgets": {},
     "nuid": "e35a3385-ad23-477e-9a37-9d588de4f0aa",
     "showTitle": false,
     "tableResultSettingsMap": {},
     "title": ""
    }
   },
   "outputs": [
    {
     "output_type": "stream",
     "name": "stdout",
     "output_type": "stream",
     "text": [
      "Out[47]: ['customer_id', 'first_name', 'last_name']"
     ]
    }
   ],
   "source": [
    "df.columns"
   ]
  },
  {
   "cell_type": "code",
   "execution_count": 0,
   "metadata": {
    "application/vnd.databricks.v1+cell": {
     "cellMetadata": {
      "byteLimit": 2048000,
      "rowLimit": 10000
     },
     "inputWidgets": {},
     "nuid": "d4cd7a47-b992-485b-8cc7-c7980edc8d4e",
     "showTitle": false,
     "tableResultSettingsMap": {},
     "title": ""
    }
   },
   "outputs": [
    {
     "output_type": "stream",
     "name": "stdout",
     "output_type": "stream",
     "text": [
      "+-----------+----------+---------+--------------+\n|customer_id|first_name|last_name|     full_name|\n+-----------+----------+---------+--------------+\n|          1|       Don| Ollander|  Don Ollander|\n|          2|     Jolee|   Ziemen|  Jolee Ziemen|\n|          3|    Maddie|   Sewley| Maddie Sewley|\n|          4|    Lolita|  Meadway|Lolita Meadway|\n|          5|   Kennedy|   Debell|Kennedy Debell|\n+-----------+----------+---------+--------------+\n\n"
     ]
    }
   ],
   "source": [
    "from pyspark.sql.functions import concat_ws\n",
    "\n",
    "df = df.withColumn(\"full_name\", concat_ws(\" \", df[\"first_name\"], df[\"last_name\"]))\n",
    "df.show()"
   ]
  },
  {
   "cell_type": "code",
   "execution_count": 0,
   "metadata": {
    "application/vnd.databricks.v1+cell": {
     "cellMetadata": {
      "byteLimit": 2048000,
      "rowLimit": 10000
     },
     "inputWidgets": {},
     "nuid": "3f64deda-2250-43ee-ab0d-fe4065d3af70",
     "showTitle": false,
     "tableResultSettingsMap": {},
     "title": ""
    }
   },
   "outputs": [
    {
     "output_type": "stream",
     "name": "stdout",
     "output_type": "stream",
     "text": [
      "+-----------+----------+---------+--------------+\n|customer_id|first_name|last_name|     full_name|\n+-----------+----------+---------+--------------+\n|          1|       Don| Ollander|  Don Ollander|\n|          2|     Jolee|   Ziemen|  Jolee Ziemen|\n|          3|    Maddie|   Sewley| Maddie Sewley|\n|          4|    Lolita|  Meadway|Lolita Meadway|\n|          5|   Kennedy|   Debell|Kennedy Debell|\n+-----------+----------+---------+--------------+\n\n"
     ]
    }
   ],
   "source": [
    "df.createOrReplaceTempView(\"customer_view\")\n",
    "\n",
    "spark.sql(\n",
    "    \"\"\"\n",
    "    SELECT * FROM customer_view;\n",
    "    \"\"\"\n",
    ").show()"
   ]
  },
  {
   "cell_type": "code",
   "execution_count": 0,
   "metadata": {
    "application/vnd.databricks.v1+cell": {
     "cellMetadata": {
      "byteLimit": 2048000,
      "rowLimit": 10000
     },
     "inputWidgets": {},
     "nuid": "3b050cf2-a633-4c0f-957f-c765102f4561",
     "showTitle": false,
     "tableResultSettingsMap": {},
     "title": ""
    }
   },
   "outputs": [
    {
     "output_type": "stream",
     "name": "stdout",
     "output_type": "stream",
     "text": [
      "+-----------+----------+---------+--------------+\n|customer_id|first_name|last_name|     full_name|\n+-----------+----------+---------+--------------+\n|          3|    Maddie|   Sewley| Maddie Sewley|\n|          4|    Lolita|  Meadway|Lolita Meadway|\n|          5|   Kennedy|   Debell|Kennedy Debell|\n+-----------+----------+---------+--------------+\n\n"
     ]
    }
   ],
   "source": [
    "from pyspark.sql.functions import col\n",
    "\n",
    "df.filter(col(\"customer_id\") > 2).show()"
   ]
  },
  {
   "cell_type": "code",
   "execution_count": 0,
   "metadata": {
    "application/vnd.databricks.v1+cell": {
     "cellMetadata": {
      "byteLimit": 2048000,
      "rowLimit": 10000
     },
     "inputWidgets": {},
     "nuid": "c406ec8b-04e6-4ca9-aa4c-ec6e12d0f6c5",
     "showTitle": false,
     "tableResultSettingsMap": {},
     "title": ""
    }
   },
   "outputs": [
    {
     "output_type": "stream",
     "name": "stdout",
     "output_type": "stream",
     "text": [
      "+-----------+----------+---------+--------------+------+\n|customer_id|first_name|last_name|     full_name|  rank|\n+-----------+----------+---------+--------------+------+\n|          1|       Don| Ollander|  Don Ollander|bronze|\n|          2|     Jolee|   Ziemen|  Jolee Ziemen|bronze|\n|          3|    Maddie|   Sewley| Maddie Sewley|bronze|\n|          4|    Lolita|  Meadway|Lolita Meadway|bronze|\n|          5|   Kennedy|   Debell|Kennedy Debell|bronze|\n+-----------+----------+---------+--------------+------+\n\n"
     ]
    }
   ],
   "source": [
    "from pyspark.sql.functions import lit\n",
    "\n",
    "df.select(\"*\", lit(\"bronze\").alias(\"rank\")).show()"
   ]
  },
  {
   "cell_type": "code",
   "execution_count": 0,
   "metadata": {
    "application/vnd.databricks.v1+cell": {
     "cellMetadata": {
      "byteLimit": 2048000,
      "rowLimit": 10000
     },
     "inputWidgets": {},
     "nuid": "51657168-eae6-4978-8eeb-5e07d776b56a",
     "showTitle": false,
     "tableResultSettingsMap": {},
     "title": ""
    }
   },
   "outputs": [
    {
     "output_type": "stream",
     "name": "stdout",
     "output_type": "stream",
     "text": [
      "+---+----------+---------+--------------+\n| id|first_name|last_name|     full_name|\n+---+----------+---------+--------------+\n|  1|       Don| Ollander|  Don Ollander|\n|  2|     Jolee|   Ziemen|  Jolee Ziemen|\n|  3|    Maddie|   Sewley| Maddie Sewley|\n|  4|    Lolita|  Meadway|Lolita Meadway|\n|  5|   Kennedy|   Debell|Kennedy Debell|\n+---+----------+---------+--------------+\n\n"
     ]
    }
   ],
   "source": [
    "df.withColumnRenamed(\"customer_id\", \"id\").show()"
   ]
  },
  {
   "cell_type": "code",
   "execution_count": 0,
   "metadata": {
    "application/vnd.databricks.v1+cell": {
     "cellMetadata": {
      "byteLimit": 2048000,
      "rowLimit": 10000
     },
     "inputWidgets": {},
     "nuid": "d1eaf6dc-a21f-4fb6-ad25-6c6d6b5b65fe",
     "showTitle": false,
     "tableResultSettingsMap": {},
     "title": ""
    }
   },
   "outputs": [
    {
     "output_type": "stream",
     "name": "stdout",
     "output_type": "stream",
     "text": [
      "root\n |-- customer_id: long (nullable = true)\n |-- first_name: string (nullable = true)\n |-- last_name: string (nullable = true)\n |-- full_name: string (nullable = false)\n\nroot\n |-- customer_id: string (nullable = true)\n |-- first_name: string (nullable = true)\n |-- last_name: string (nullable = true)\n |-- full_name: string (nullable = false)\n\n"
     ]
    }
   ],
   "source": [
    "df.printSchema()\n",
    "df.withColumn(\"customer_id\", col(\"customer_id\").cast(\"string\")).printSchema()"
   ]
  },
  {
   "cell_type": "code",
   "execution_count": 0,
   "metadata": {
    "application/vnd.databricks.v1+cell": {
     "cellMetadata": {
      "byteLimit": 2048000,
      "rowLimit": 10000
     },
     "inputWidgets": {},
     "nuid": "2640a58e-7fae-458d-8ec2-33cc5df73f76",
     "showTitle": false,
     "tableResultSettingsMap": {},
     "title": ""
    }
   },
   "outputs": [
    {
     "output_type": "stream",
     "name": "stdout",
     "output_type": "stream",
     "text": [
      "+-----------+----------+---------+--------------+\n|customer_id|first_name|last_name|     full_name|\n+-----------+----------+---------+--------------+\n|          1|       Don| Ollander|  Don Ollander|\n|          2|     Jolee|   Ziemen|  Jolee Ziemen|\n|          3|    Maddie|   Sewley| Maddie Sewley|\n|          4|    Lolita|  Meadway|Lolita Meadway|\n|          5|   Kennedy|   Debell|Kennedy Debell|\n+-----------+----------+---------+--------------+\n\n+-----------+----------+---------+\n|customer_id|first_name|last_name|\n+-----------+----------+---------+\n|          1|       Don| Ollander|\n|          2|     Jolee|   Ziemen|\n|          3|    Maddie|   Sewley|\n|          4|    Lolita|  Meadway|\n|          5|   Kennedy|   Debell|\n+-----------+----------+---------+\n\n"
     ]
    }
   ],
   "source": [
    "df.show()\n",
    "df.drop(\"full_name\").show()"
   ]
  }
 ],
 "metadata": {
  "application/vnd.databricks.v1+notebook": {
   "computePreferences": null,
   "dashboards": [],
   "environmentMetadata": {
    "base_environment": "",
    "environment_version": "1"
   },
   "inputWidgetPreferences": null,
   "language": "python",
   "notebookMetadata": {
    "pythonIndentUnit": 4
   },
   "notebookName": "Playing with DataFrame",
   "widgets": {}
  }
 },
 "nbformat": 4,
 "nbformat_minor": 0
}