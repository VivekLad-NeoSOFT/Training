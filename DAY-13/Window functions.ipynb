{
 "cells": [
  {
   "cell_type": "code",
   "execution_count": 0,
   "metadata": {
    "application/vnd.databricks.v1+cell": {
     "cellMetadata": {
      "byteLimit": 2048000,
      "rowLimit": 10000
     },
     "inputWidgets": {},
     "nuid": "3ef8ac7b-2ce2-47b9-9a1b-af3bd54e2564",
     "showTitle": false,
     "tableResultSettingsMap": {},
     "title": ""
    }
   },
   "outputs": [
    {
     "output_type": "stream",
     "name": "stdout",
     "output_type": "stream",
     "text": [
      "+---+--------+------+----------+------+\n| id|    name|salary|department|gender|\n+---+--------+------+----------+------+\n|  1|  manish| 50000|        IT|     m|\n|  2|  vikash| 60000|     sales|     m|\n|  3| raushan| 70000| marketing|     m|\n|  4|  mukesh| 80000|        IT|     m|\n|  5|   priti| 90000|     sales|     f|\n|  6|  nikita| 45000| marketing|     f|\n|  7|  ragini| 55000| marketing|     f|\n|  8|   rashi|100000|        IT|     f|\n|  9|  aditya| 65000|        IT|     m|\n| 10|   rahul| 50000| marketing|     m|\n| 11|   rakhi| 50000|        IT|     f|\n| 12|akhilesh| 90000|     sales|     m|\n+---+--------+------+----------+------+\n\n"
     ]
    }
   ],
   "source": [
    "data = [\n",
    "    (1, \"manish\", 50000, \"IT\", \"m\"),\n",
    "    (2, \"vikash\", 60000, \"sales\", \"m\"),\n",
    "    (3, \"raushan\", 70000, \"marketing\", \"m\"),\n",
    "    (4, \"mukesh\", 80000, \"IT\", \"m\"),\n",
    "    (5, \"priti\", 90000, \"sales\", \"f\"),\n",
    "    (6, \"nikita\", 45000, \"marketing\", \"f\"),\n",
    "    (7, \"ragini\", 55000, \"marketing\", \"f\"),\n",
    "    (8, \"rashi\", 100000, \"IT\", \"f\"),\n",
    "    (9, \"aditya\", 65000, \"IT\", \"m\"),\n",
    "    (10, \"rahul\", 50000, \"marketing\", \"m\"),\n",
    "    (11, \"rakhi\", 50000, \"IT\", \"f\"),\n",
    "    (12, \"akhilesh\", 90000, \"sales\", \"m\"),\n",
    "]\n",
    "\n",
    "schema = [\"id\", \"name\", \"salary\", \"department\", \"gender\"]\n",
    "df = spark.createDataFrame(data=data, schema=schema)\n",
    "df.show()"
   ]
  },
  {
   "cell_type": "code",
   "execution_count": 0,
   "metadata": {
    "application/vnd.databricks.v1+cell": {
     "cellMetadata": {
      "byteLimit": 2048000,
      "rowLimit": 10000
     },
     "inputWidgets": {},
     "nuid": "37e0d052-f1ce-4544-b73f-66e09001d820",
     "showTitle": false,
     "tableResultSettingsMap": {},
     "title": ""
    }
   },
   "outputs": [],
   "source": [
    "from pyspark.sql.window import Window\n",
    "from pyspark.sql.functions import row_number, rank, dense_rank, lag, lead, col, round, first, last"
   ]
  },
  {
   "cell_type": "code",
   "execution_count": 0,
   "metadata": {
    "application/vnd.databricks.v1+cell": {
     "cellMetadata": {
      "byteLimit": 2048000,
      "rowLimit": 10000
     },
     "inputWidgets": {},
     "nuid": "e0894bcd-4898-4c17-9280-35a0767c45e0",
     "showTitle": false,
     "tableResultSettingsMap": {},
     "title": ""
    }
   },
   "outputs": [
    {
     "output_type": "stream",
     "name": "stdout",
     "output_type": "stream",
     "text": [
      "+---+--------+------+----------+------+----------+----+----------+\n|id |name    |salary|department|gender|Row Number|Rank|Dense Rank|\n+---+--------+------+----------+------+----------+----+----------+\n|1  |manish  |50000 |IT        |m     |1         |1   |1         |\n|11 |rakhi   |50000 |IT        |f     |2         |1   |1         |\n|9  |aditya  |65000 |IT        |m     |3         |3   |2         |\n|4  |mukesh  |80000 |IT        |m     |4         |4   |3         |\n|8  |rashi   |100000|IT        |f     |5         |5   |4         |\n|6  |nikita  |45000 |marketing |f     |1         |1   |1         |\n|10 |rahul   |50000 |marketing |m     |2         |2   |2         |\n|7  |ragini  |55000 |marketing |f     |3         |3   |3         |\n|3  |raushan |70000 |marketing |m     |4         |4   |4         |\n|2  |vikash  |60000 |sales     |m     |1         |1   |1         |\n|5  |priti   |90000 |sales     |f     |2         |2   |2         |\n|12 |akhilesh|90000 |sales     |m     |3         |2   |2         |\n+---+--------+------+----------+------+----------+----+----------+\n\n"
     ]
    }
   ],
   "source": [
    "window = Window.partitionBy(\"department\").orderBy(\"salary\")\n",
    "df.withColumn(\"Row Number\", row_number().over(window)).withColumn(\n",
    "    \"Rank\", rank().over(window)\n",
    ").withColumn(\"Dense Rank\", dense_rank().over(window)).show(truncate=False)"
   ]
  },
  {
   "cell_type": "code",
   "execution_count": 0,
   "metadata": {
    "application/vnd.databricks.v1+cell": {
     "cellMetadata": {
      "byteLimit": 2048000,
      "rowLimit": 10000
     },
     "inputWidgets": {},
     "nuid": "820dee6c-1741-42ba-b67a-30fe055b5be5",
     "showTitle": false,
     "tableResultSettingsMap": {},
     "title": ""
    }
   },
   "outputs": [
    {
     "output_type": "stream",
     "name": "stdout",
     "output_type": "stream",
     "text": [
      "+---+--------+------+----------+------+----------+----+\n|id |name    |salary|department|gender|Row Number|Rank|\n+---+--------+------+----------+------+----------+----+\n|11 |rakhi   |50000 |IT        |f     |1         |1   |\n|8  |rashi   |100000|IT        |f     |2         |2   |\n|1  |manish  |50000 |IT        |m     |1         |1   |\n|9  |aditya  |65000 |IT        |m     |2         |2   |\n|4  |mukesh  |80000 |IT        |m     |3         |3   |\n|6  |nikita  |45000 |marketing |f     |1         |1   |\n|7  |ragini  |55000 |marketing |f     |2         |2   |\n|10 |rahul   |50000 |marketing |m     |1         |1   |\n|3  |raushan |70000 |marketing |m     |2         |2   |\n|5  |priti   |90000 |sales     |f     |1         |1   |\n|2  |vikash  |60000 |sales     |m     |1         |1   |\n|12 |akhilesh|90000 |sales     |m     |2         |2   |\n+---+--------+------+----------+------+----------+----+\n\n"
     ]
    }
   ],
   "source": [
    "window = Window.partitionBy(\"department\", \"gender\").orderBy(\"salary\")\n",
    "df.withColumn(\"Row Number\", row_number().over(window)).withColumn(\n",
    "    \"Rank\", rank().over(window)\n",
    ").show(truncate=False)"
   ]
  },
  {
   "cell_type": "code",
   "execution_count": 0,
   "metadata": {
    "application/vnd.databricks.v1+cell": {
     "cellMetadata": {
      "byteLimit": 2048000,
      "rowLimit": 10000
     },
     "inputWidgets": {},
     "nuid": "cbcc1abd-7f98-4f54-8502-9e99a384ceb1",
     "showTitle": false,
     "tableResultSettingsMap": {},
     "title": ""
    }
   },
   "outputs": [
    {
     "output_type": "stream",
     "name": "stdout",
     "output_type": "stream",
     "text": [
      "+---+-------+----------+-------+\n| id|product|      date|  sales|\n+---+-------+----------+-------+\n|  1| iphone|01-01-2023|1500000|\n|  2|samsung|01-01-2023|1100000|\n|  3|oneplus|01-01-2023|1100000|\n|  1| iphone|01-02-2023|1300000|\n|  2|samsung|01-02-2023|1120000|\n|  3|oneplus|01-02-2023|1120000|\n|  1| iphone|01-03-2023|1600000|\n|  2|samsung|01-03-2023|1080000|\n|  3|oneplus|01-03-2023|1160000|\n|  1| iphone|01-04-2023|1700000|\n|  2|samsung|01-04-2023|1800000|\n|  3|oneplus|01-04-2023|1170000|\n|  1| iphone|01-05-2023|1200000|\n|  2|samsung|01-05-2023| 980000|\n|  3|oneplus|01-05-2023|1175000|\n|  1| iphone|01-06-2023|1100000|\n|  2|samsung|01-06-2023|1100000|\n|  3|oneplus|01-06-2023|1200000|\n+---+-------+----------+-------+\n\n"
     ]
    }
   ],
   "source": [
    "product_data = [\n",
    "    (1, \"iphone\", \"01-01-2023\", 1500000),\n",
    "    (2, \"samsung\", \"01-01-2023\", 1100000),\n",
    "    (3, \"oneplus\", \"01-01-2023\", 1100000),\n",
    "    (1, \"iphone\", \"01-02-2023\", 1300000),\n",
    "    (2, \"samsung\", \"01-02-2023\", 1120000),\n",
    "    (3, \"oneplus\", \"01-02-2023\", 1120000),\n",
    "    (1, \"iphone\", \"01-03-2023\", 1600000),\n",
    "    (2, \"samsung\", \"01-03-2023\", 1080000),\n",
    "    (3, \"oneplus\", \"01-03-2023\", 1160000),\n",
    "    (1, \"iphone\", \"01-04-2023\", 1700000),\n",
    "    (2, \"samsung\", \"01-04-2023\", 1800000),\n",
    "    (3, \"oneplus\", \"01-04-2023\", 1170000),\n",
    "    (1, \"iphone\", \"01-05-2023\", 1200000),\n",
    "    (2, \"samsung\", \"01-05-2023\", 980000),\n",
    "    (3, \"oneplus\", \"01-05-2023\", 1175000),\n",
    "    (1, \"iphone\", \"01-06-2023\", 1100000),\n",
    "    (2, \"samsung\", \"01-06-2023\", 1100000),\n",
    "    (3, \"oneplus\", \"01-06-2023\", 1200000),\n",
    "]\n",
    "\n",
    "schema = [\"id\", \"product\", \"date\", \"sales\"]\n",
    "sales_df = spark.createDataFrame(data=product_data, schema=schema)\n",
    "sales_df.show()"
   ]
  },
  {
   "cell_type": "code",
   "execution_count": 0,
   "metadata": {
    "application/vnd.databricks.v1+cell": {
     "cellMetadata": {
      "byteLimit": 2048000,
      "rowLimit": 10000
     },
     "inputWidgets": {},
     "nuid": "def32def-3c4d-4f55-a9b9-bd26ee463ffc",
     "showTitle": false,
     "tableResultSettingsMap": {},
     "title": ""
    }
   },
   "outputs": [
    {
     "output_type": "stream",
     "name": "stdout",
     "output_type": "stream",
     "text": [
      "+---+-------+----------+-------+----------------------+\n| id|product|      date|  sales|Previous Month's sales|\n+---+-------+----------+-------+----------------------+\n|  1| iphone|01-01-2023|1500000|                  null|\n|  1| iphone|01-02-2023|1300000|               1500000|\n|  1| iphone|01-03-2023|1600000|               1300000|\n|  1| iphone|01-04-2023|1700000|               1600000|\n|  1| iphone|01-05-2023|1200000|               1700000|\n|  1| iphone|01-06-2023|1100000|               1200000|\n|  2|samsung|01-01-2023|1100000|                  null|\n|  2|samsung|01-02-2023|1120000|               1100000|\n|  2|samsung|01-03-2023|1080000|               1120000|\n|  2|samsung|01-04-2023|1800000|               1080000|\n|  2|samsung|01-05-2023| 980000|               1800000|\n|  2|samsung|01-06-2023|1100000|                980000|\n|  3|oneplus|01-01-2023|1100000|                  null|\n|  3|oneplus|01-02-2023|1120000|               1100000|\n|  3|oneplus|01-03-2023|1160000|               1120000|\n|  3|oneplus|01-04-2023|1170000|               1160000|\n|  3|oneplus|01-05-2023|1175000|               1170000|\n|  3|oneplus|01-06-2023|1200000|               1175000|\n+---+-------+----------+-------+----------------------+\n\n"
     ]
    }
   ],
   "source": [
    "window = Window.partitionBy(\"id\").orderBy(\"date\")\n",
    "previous_months_df = sales_df.withColumn(\"Previous Month's sales\",lag(col(\"sales\"),1).over(window))\n",
    "previous_months_df.show()"
   ]
  },
  {
   "cell_type": "code",
   "execution_count": 0,
   "metadata": {
    "application/vnd.databricks.v1+cell": {
     "cellMetadata": {
      "byteLimit": 2048000,
      "rowLimit": 10000
     },
     "inputWidgets": {},
     "nuid": "288d7c10-a920-4c4c-a67a-b1c537b69f6a",
     "showTitle": false,
     "tableResultSettingsMap": {},
     "title": ""
    }
   },
   "outputs": [
    {
     "output_type": "stream",
     "name": "stdout",
     "output_type": "stream",
     "text": [
      "+---+-------+----------+-------+----------------------+----------------------+\n| id|product|      date|  sales|Previous Month's sales|percentage_loss_profit|\n+---+-------+----------+-------+----------------------+----------------------+\n|  1| iphone|01-01-2023|1500000|                  null|                  null|\n|  1| iphone|01-02-2023|1300000|               1500000|                -15.38|\n|  1| iphone|01-03-2023|1600000|               1300000|                 18.75|\n|  1| iphone|01-04-2023|1700000|               1600000|                  5.88|\n|  1| iphone|01-05-2023|1200000|               1700000|                -41.67|\n|  1| iphone|01-06-2023|1100000|               1200000|                 -9.09|\n|  2|samsung|01-01-2023|1100000|                  null|                  null|\n|  2|samsung|01-02-2023|1120000|               1100000|                  1.79|\n|  2|samsung|01-03-2023|1080000|               1120000|                  -3.7|\n|  2|samsung|01-04-2023|1800000|               1080000|                  40.0|\n|  2|samsung|01-05-2023| 980000|               1800000|                -83.67|\n|  2|samsung|01-06-2023|1100000|                980000|                 10.91|\n|  3|oneplus|01-01-2023|1100000|                  null|                  null|\n|  3|oneplus|01-02-2023|1120000|               1100000|                  1.79|\n|  3|oneplus|01-03-2023|1160000|               1120000|                  3.45|\n|  3|oneplus|01-04-2023|1170000|               1160000|                  0.85|\n|  3|oneplus|01-05-2023|1175000|               1170000|                  0.43|\n|  3|oneplus|01-06-2023|1200000|               1175000|                  2.08|\n+---+-------+----------+-------+----------------------+----------------------+\n\n"
     ]
    }
   ],
   "source": [
    "previous_months_df.withColumn(\n",
    "    \"percentage_loss_profit\",\n",
    "    round((col(\"sales\") - col(\"Previous Month's sales\")) / col(\"sales\") * 100, 2),\n",
    ").show()"
   ]
  },
  {
   "cell_type": "code",
   "execution_count": 0,
   "metadata": {
    "application/vnd.databricks.v1+cell": {
     "cellMetadata": {
      "byteLimit": 2048000,
      "rowLimit": 10000
     },
     "inputWidgets": {},
     "nuid": "9cddd73e-9351-43be-9c3e-48a7a830dfc7",
     "showTitle": false,
     "tableResultSettingsMap": {},
     "title": ""
    }
   },
   "outputs": [
    {
     "output_type": "stream",
     "name": "stdout",
     "output_type": "stream",
     "text": [
      "+---+-------+----------+-------+------------------+\n| id|product|      date|  sales|Next Month's sales|\n+---+-------+----------+-------+------------------+\n|  1| iphone|01-01-2023|1500000|           1300000|\n|  1| iphone|01-02-2023|1300000|           1600000|\n|  1| iphone|01-03-2023|1600000|           1700000|\n|  1| iphone|01-04-2023|1700000|           1200000|\n|  1| iphone|01-05-2023|1200000|           1100000|\n|  1| iphone|01-06-2023|1100000|              null|\n|  2|samsung|01-01-2023|1100000|           1120000|\n|  2|samsung|01-02-2023|1120000|           1080000|\n|  2|samsung|01-03-2023|1080000|           1800000|\n|  2|samsung|01-04-2023|1800000|            980000|\n|  2|samsung|01-05-2023| 980000|           1100000|\n|  2|samsung|01-06-2023|1100000|              null|\n|  3|oneplus|01-01-2023|1100000|           1120000|\n|  3|oneplus|01-02-2023|1120000|           1160000|\n|  3|oneplus|01-03-2023|1160000|           1170000|\n|  3|oneplus|01-04-2023|1170000|           1175000|\n|  3|oneplus|01-05-2023|1175000|           1200000|\n|  3|oneplus|01-06-2023|1200000|              null|\n+---+-------+----------+-------+------------------+\n\n"
     ]
    }
   ],
   "source": [
    "next_months_df = sales_df.withColumn(\"Next Month's sales\",lead(col(\"sales\"),1).over(window))\n",
    "next_months_df.show()"
   ]
  },
  {
   "cell_type": "code",
   "execution_count": 0,
   "metadata": {
    "application/vnd.databricks.v1+cell": {
     "cellMetadata": {
      "byteLimit": 2048000,
      "rowLimit": 10000
     },
     "inputWidgets": {},
     "nuid": "e82d96ba-49bb-42ac-88e9-c42caf7b7e6f",
     "showTitle": false,
     "tableResultSettingsMap": {},
     "title": ""
    }
   },
   "outputs": [
    {
     "output_type": "stream",
     "name": "stdout",
     "output_type": "stream",
     "text": [
      "+---+-------+----------+-------+-------+-------+\n| id|product|      date|  sales|  first| latest|\n+---+-------+----------+-------+-------+-------+\n|  1| iphone|01-01-2023|1500000|1500000|1100000|\n|  1| iphone|01-02-2023|1300000|1500000|1100000|\n|  1| iphone|01-03-2023|1600000|1500000|1100000|\n|  1| iphone|01-04-2023|1700000|1500000|1100000|\n|  1| iphone|01-05-2023|1200000|1500000|1100000|\n|  1| iphone|01-06-2023|1100000|1500000|1100000|\n|  2|samsung|01-01-2023|1100000|1100000|1100000|\n|  2|samsung|01-02-2023|1120000|1100000|1100000|\n|  2|samsung|01-03-2023|1080000|1100000|1100000|\n|  2|samsung|01-04-2023|1800000|1100000|1100000|\n|  2|samsung|01-05-2023| 980000|1100000|1100000|\n|  2|samsung|01-06-2023|1100000|1100000|1100000|\n|  3|oneplus|01-01-2023|1100000|1100000|1200000|\n|  3|oneplus|01-02-2023|1120000|1100000|1200000|\n|  3|oneplus|01-03-2023|1160000|1100000|1200000|\n|  3|oneplus|01-04-2023|1170000|1100000|1200000|\n|  3|oneplus|01-05-2023|1175000|1100000|1200000|\n|  3|oneplus|01-06-2023|1200000|1100000|1200000|\n+---+-------+----------+-------+-------+-------+\n\n"
     ]
    }
   ],
   "source": [
    "window = (\n",
    "    Window.partitionBy(\"id\")\n",
    "    .orderBy(\"date\")\n",
    "    .rangeBetween(Window.unboundedPreceding, Window.unboundedFollowing)\n",
    ")\n",
    "sales_df.withColumn(\"first\", first(\"sales\").over(window)).withColumn(\n",
    "    \"latest\", last(\"sales\").over(window)\n",
    ").show()"
   ]
  }
 ],
 "metadata": {
  "application/vnd.databricks.v1+notebook": {
   "computePreferences": null,
   "dashboards": [],
   "environmentMetadata": {
    "base_environment": "",
    "environment_version": "1"
   },
   "inputWidgetPreferences": null,
   "language": "python",
   "notebookMetadata": {
    "pythonIndentUnit": 4
   },
   "notebookName": "Window functions",
   "widgets": {}
  }
 },
 "nbformat": 4,
 "nbformat_minor": 0
}