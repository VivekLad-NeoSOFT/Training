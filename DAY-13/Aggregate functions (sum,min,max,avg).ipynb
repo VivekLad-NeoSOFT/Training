{
 "cells": [
  {
   "cell_type": "code",
   "execution_count": 0,
   "metadata": {
    "application/vnd.databricks.v1+cell": {
     "cellMetadata": {
      "byteLimit": 2048000,
      "rowLimit": 10000
     },
     "inputWidgets": {},
     "nuid": "61cf106b-e829-49a4-9b5c-7030559eb02f",
     "showTitle": false,
     "tableResultSettingsMap": {},
     "title": ""
    }
   },
   "outputs": [
    {
     "output_type": "stream",
     "name": "stdout",
     "output_type": "stream",
     "text": [
      "+----+-------+----+------+-------+-----------+\n|  id|   name| age|salary|country| department|\n+----+-------+----+------+-------+-----------+\n|   1| manish|  26| 20000|  india|         IT|\n|   2|  rahul|null| 40000|germany|engineering|\n|   3|  pawan|  12| 60000|  india|      sales|\n|   4|roshini|  44|  null|     uk|engineering|\n|   5|raushan|  35| 70000|  india|      sales|\n|   6|   null|  29|200000|     uk|         IT|\n|   7|   adam|  37| 65000|     us|         IT|\n|   8|  chris|  16| 40000|     us|      sales|\n|null|   null|null|  null|   null|       null|\n|   7|   adam|  37| 65000|     us|         IT|\n+----+-------+----+------+-------+-----------+\n\n"
     ]
    }
   ],
   "source": [
    "from pyspark.sql.functions import sum, min, max, avg\n",
    "\n",
    "data = [\n",
    "    (1, \"manish\", 26, 20000, \"india\", \"IT\"),\n",
    "    (2, \"rahul\", None, 40000, \"germany\", \"engineering\"),\n",
    "    (3, \"pawan\", 12, 60000, \"india\", \"sales\"),\n",
    "    (4, \"roshini\", 44, None, \"uk\", \"engineering\"),\n",
    "    (5, \"raushan\", 35, 70000, \"india\", \"sales\"),\n",
    "    (6, None, 29, 200000, \"uk\", \"IT\"),\n",
    "    (7, \"adam\", 37, 65000, \"us\", \"IT\"),\n",
    "    (8, \"chris\", 16, 40000, \"us\", \"sales\"),\n",
    "    (None, None, None, None, None, None),\n",
    "    (7, \"adam\", 37, 65000, \"us\", \"IT\"),\n",
    "]\n",
    "schema = [\"id\", \"name\", \"age\", \"salary\", \"country\", \"department\"]\n",
    "df = spark.createDataFrame(data=data, schema=schema)\n",
    "df.show()"
   ]
  },
  {
   "cell_type": "code",
   "execution_count": 0,
   "metadata": {
    "application/vnd.databricks.v1+cell": {
     "cellMetadata": {
      "byteLimit": 2048000,
      "rowLimit": 10000
     },
     "inputWidgets": {},
     "nuid": "82bf428d-74bc-4f29-bd25-a6646bfee8da",
     "showTitle": false,
     "tableResultSettingsMap": {},
     "title": ""
    }
   },
   "outputs": [
    {
     "output_type": "stream",
     "name": "stdout",
     "output_type": "stream",
     "text": [
      "Out[35]: 10"
     ]
    }
   ],
   "source": [
    "df.count()"
   ]
  },
  {
   "cell_type": "code",
   "execution_count": 0,
   "metadata": {
    "application/vnd.databricks.v1+cell": {
     "cellMetadata": {
      "byteLimit": 2048000,
      "rowLimit": 10000
     },
     "inputWidgets": {},
     "nuid": "1bb53a54-866c-4c7e-bf9b-880611a1de81",
     "showTitle": false,
     "tableResultSettingsMap": {},
     "title": ""
    }
   },
   "outputs": [
    {
     "output_type": "stream",
     "name": "stdout",
     "output_type": "stream",
     "text": [
      "+-----------+\n|Total Names|\n+-----------+\n|          8|\n+-----------+\n\n"
     ]
    }
   ],
   "source": [
    "df.select(count(\"name\").alias(\"Total Names\")).show()"
   ]
  },
  {
   "cell_type": "code",
   "execution_count": 0,
   "metadata": {
    "application/vnd.databricks.v1+cell": {
     "cellMetadata": {
      "byteLimit": 2048000,
      "rowLimit": 10000
     },
     "inputWidgets": {},
     "nuid": "78968ec1-9999-4663-acfe-84135a830e09",
     "showTitle": false,
     "tableResultSettingsMap": {},
     "title": ""
    }
   },
   "outputs": [
    {
     "output_type": "stream",
     "name": "stdout",
     "output_type": "stream",
     "text": [
      "+-------------+-------------+--------------+--------------+\n|Total Ssalary|Lowest Salary|Highest Salary|Average Salary|\n+-------------+-------------+--------------+--------------+\n|       560000|        20000|        200000|       70000.0|\n+-------------+-------------+--------------+--------------+\n\n"
     ]
    }
   ],
   "source": [
    "df.select(\n",
    "    sum(\"salary\").alias(\"Total Ssalary\"),\n",
    "    min(\"salary\").alias(\"Lowest Salary\"),\n",
    "    max(\"salary\").alias(\"Highest Salary\"),\n",
    "    avg(\"salary\").alias(\"Average Salary\"),\n",
    ").show()"
   ]
  }
 ],
 "metadata": {
  "application/vnd.databricks.v1+notebook": {
   "computePreferences": null,
   "dashboards": [],
   "environmentMetadata": {
    "base_environment": "",
    "environment_version": "1"
   },
   "inputWidgetPreferences": null,
   "language": "python",
   "notebookMetadata": {
    "pythonIndentUnit": 4
   },
   "notebookName": "Aggregate functions (sum,min,max,avg)",
   "widgets": {}
  }
 },
 "nbformat": 4,
 "nbformat_minor": 0
}