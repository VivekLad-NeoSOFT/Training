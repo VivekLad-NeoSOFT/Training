{
 "cells": [
  {
   "cell_type": "code",
   "execution_count": 0,
   "metadata": {
    "application/vnd.databricks.v1+cell": {
     "cellMetadata": {
      "byteLimit": 2048000,
      "rowLimit": 10000
     },
     "inputWidgets": {},
     "nuid": "40801841-d557-4bf8-b2b0-de44bec96e3f",
     "showTitle": false,
     "tableResultSettingsMap": {},
     "title": ""
    }
   },
   "outputs": [
    {
     "output_type": "stream",
     "name": "stdout",
     "output_type": "stream",
     "text": [
      "+---+-------+------+----------+\n| id|   name|salary|department|\n+---+-------+------+----------+\n|  1| manish| 50000|        IT|\n|  2| vikash| 60000|     sales|\n|  3|raushan| 70000| marketing|\n|  4| mukesh| 80000|        IT|\n|  5| pritam| 90000|     sales|\n|  6| nikita| 45000| marketing|\n|  7| ragini| 55000| marketing|\n|  8| rakesh|100000|        IT|\n|  9| aditya| 65000|        IT|\n| 10|  rahul| 50000| marketing|\n+---+-------+------+----------+\n\n"
     ]
    }
   ],
   "source": [
    "from pyspark.sql.functions import sum\n",
    "\n",
    "data = [\n",
    "    (1, \"manish\", 50000, \"IT\"),\n",
    "    (2, \"vikash\", 60000, \"sales\"),\n",
    "    (3, \"raushan\", 70000, \"marketing\"),\n",
    "    (4, \"mukesh\", 80000, \"IT\"),\n",
    "    (5, \"pritam\", 90000, \"sales\"),\n",
    "    (6, \"nikita\", 45000, \"marketing\"),\n",
    "    (7, \"ragini\", 55000, \"marketing\"),\n",
    "    (8, \"rakesh\", 100000, \"IT\"),\n",
    "    (9, \"aditya\", 65000, \"IT\"),\n",
    "    (10, \"rahul\", 50000, \"marketing\"),\n",
    "]\n",
    "schema = [\"id\", \"name\", \"salary\", \"department\"]\n",
    "df = spark.createDataFrame(data=data, schema=schema)\n",
    "df.show()"
   ]
  },
  {
   "cell_type": "code",
   "execution_count": 0,
   "metadata": {
    "application/vnd.databricks.v1+cell": {
     "cellMetadata": {
      "byteLimit": 2048000,
      "rowLimit": 10000
     },
     "inputWidgets": {},
     "nuid": "39bf5783-59c0-4a65-81ff-7096b8a852ae",
     "showTitle": false,
     "tableResultSettingsMap": {},
     "title": ""
    }
   },
   "outputs": [
    {
     "output_type": "stream",
     "name": "stdout",
     "output_type": "stream",
     "text": [
      "+----------+------+\n|department|Salary|\n+----------+------+\n|        IT|295000|\n|     sales|150000|\n| marketing|220000|\n+----------+------+\n\n"
     ]
    }
   ],
   "source": [
    "df.groupBy(\"department\").agg(sum(\"salary\").alias(\"Salary\")).show()"
   ]
  }
 ],
 "metadata": {
  "application/vnd.databricks.v1+notebook": {
   "computePreferences": null,
   "dashboards": [],
   "environmentMetadata": {
    "base_environment": "",
    "environment_version": "1"
   },
   "inputWidgetPreferences": null,
   "language": "python",
   "notebookMetadata": {
    "pythonIndentUnit": 4
   },
   "notebookName": "Group by",
   "widgets": {}
  }
 },
 "nbformat": 4,
 "nbformat_minor": 0
}