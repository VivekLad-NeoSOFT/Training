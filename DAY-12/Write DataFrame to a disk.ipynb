{
 "cells": [
  {
   "cell_type": "code",
   "execution_count": 0,
   "metadata": {
    "application/vnd.databricks.v1+cell": {
     "cellMetadata": {
      "byteLimit": 2048000,
      "rowLimit": 10000
     },
     "inputWidgets": {},
     "nuid": "420397de-ea5c-4a86-8a6c-6ababaaf8a21",
     "showTitle": false,
     "tableResultSettingsMap": {},
     "title": ""
    }
   },
   "outputs": [
    {
     "output_type": "stream",
     "name": "stdout",
     "output_type": "stream",
     "text": [
      "+---+--------+---+------+------------+--------+\n| id|    name|age|salary|     address| nominee|\n+---+--------+---+------+------------+--------+\n|  1|  Manish| 26| 75000|       bihar|nominee1|\n|  2|  Nikita| 23|100000|uttarpradesh|nominee2|\n|  3|  Pritam| 22|150000|   Bangalore|   India|\n|  4|Prantosh| 17|200000|     Kolkata|   India|\n|  5|  Vikash| 31|300000|        null|nominee5|\n+---+--------+---+------+------------+--------+\n\n"
     ]
    }
   ],
   "source": [
    "df = spark.read.format(\"csv\").option(\"header\",\"true\").load(\"/FileStore/tables/employee.csv\")\n",
    "df.show()"
   ]
  },
  {
   "cell_type": "code",
   "execution_count": 0,
   "metadata": {
    "application/vnd.databricks.v1+cell": {
     "cellMetadata": {
      "byteLimit": 2048000,
      "rowLimit": 10000
     },
     "inputWidgets": {},
     "nuid": "ac428b61-9039-4d21-b5d3-fdd1eae7ba88",
     "showTitle": false,
     "tableResultSettingsMap": {},
     "title": ""
    }
   },
   "outputs": [],
   "source": [
    "df.write.format(\"csv\").option(\"header\", \"true\").mode(\"overwrite\").option(\n",
    "    \"path\", \"/FileStore/tables/csv_write/\"\n",
    ").save()"
   ]
  },
  {
   "cell_type": "code",
   "execution_count": 0,
   "metadata": {
    "application/vnd.databricks.v1+cell": {
     "cellMetadata": {
      "byteLimit": 2048000,
      "rowLimit": 10000
     },
     "inputWidgets": {},
     "nuid": "439c1c00-a824-4642-8b8c-72c400c15871",
     "showTitle": false,
     "tableResultSettingsMap": {},
     "title": ""
    }
   },
   "outputs": [
    {
     "output_type": "stream",
     "name": "stdout",
     "output_type": "stream",
     "text": [
      "Out[15]: [FileInfo(path='dbfs:/FileStore/tables/csv_write/_SUCCESS', name='_SUCCESS', size=0, modificationTime=1747742209000),\n FileInfo(path='dbfs:/FileStore/tables/csv_write/_committed_1297779007834220118', name='_committed_1297779007834220118', size=111, modificationTime=1747741180000),\n FileInfo(path='dbfs:/FileStore/tables/csv_write/_committed_9107974242054770658', name='_committed_9107974242054770658', size=208, modificationTime=1747742208000),\n FileInfo(path='dbfs:/FileStore/tables/csv_write/_started_1297779007834220118', name='_started_1297779007834220118', size=0, modificationTime=1747741179000),\n FileInfo(path='dbfs:/FileStore/tables/csv_write/_started_9107974242054770658', name='_started_9107974242054770658', size=0, modificationTime=1747742208000),\n FileInfo(path='dbfs:/FileStore/tables/csv_write/part-00000-tid-9107974242054770658-d3df9f3b-65cb-4158-a157-4ca240f4c6dd-8-1-c000.csv', name='part-00000-tid-9107974242054770658-d3df9f3b-65cb-4158-a157-4ca240f4c6dd-8-1-c000.csv', size=208, modificationTime=1747742208000)]"
     ]
    }
   ],
   "source": [
    "dbutils.fs.ls(\"/FileStore/tables/csv_write/\")"
   ]
  },
  {
   "cell_type": "code",
   "execution_count": 0,
   "metadata": {
    "application/vnd.databricks.v1+cell": {
     "cellMetadata": {
      "byteLimit": 2048000,
      "rowLimit": 10000
     },
     "inputWidgets": {},
     "nuid": "512dd721-8e70-419a-b523-e9890551b980",
     "showTitle": false,
     "tableResultSettingsMap": {},
     "title": ""
    }
   },
   "outputs": [
    {
     "output_type": "display_data",
     "data": {
      "text/html": [
       "<style scoped>\n",
       "  .table-result-container {\n",
       "    max-height: 300px;\n",
       "    overflow: auto;\n",
       "  }\n",
       "  table, th, td {\n",
       "    border: 1px solid black;\n",
       "    border-collapse: collapse;\n",
       "  }\n",
       "  th, td {\n",
       "    padding: 5px;\n",
       "  }\n",
       "  th {\n",
       "    text-align: left;\n",
       "  }\n",
       "</style><div class='table-result-container'><table class='table-result'><thead style='background-color: white'><tr><th>path</th><th>name</th><th>size</th><th>modificationTime</th></tr></thead><tbody><tr><td>dbfs:/FileStore/tables/csv_write/_SUCCESS</td><td>_SUCCESS</td><td>0</td><td>1747742209000</td></tr><tr><td>dbfs:/FileStore/tables/csv_write/_committed_1297779007834220118</td><td>_committed_1297779007834220118</td><td>111</td><td>1747741180000</td></tr><tr><td>dbfs:/FileStore/tables/csv_write/_committed_9107974242054770658</td><td>_committed_9107974242054770658</td><td>208</td><td>1747742208000</td></tr><tr><td>dbfs:/FileStore/tables/csv_write/_started_1297779007834220118</td><td>_started_1297779007834220118</td><td>0</td><td>1747741179000</td></tr><tr><td>dbfs:/FileStore/tables/csv_write/_started_9107974242054770658</td><td>_started_9107974242054770658</td><td>0</td><td>1747742208000</td></tr><tr><td>dbfs:/FileStore/tables/csv_write/part-00000-tid-9107974242054770658-d3df9f3b-65cb-4158-a157-4ca240f4c6dd-8-1-c000.csv</td><td>part-00000-tid-9107974242054770658-d3df9f3b-65cb-4158-a157-4ca240f4c6dd-8-1-c000.csv</td><td>208</td><td>1747742208000</td></tr></tbody></table></div>"
      ]
     },
     "metadata": {
      "application/vnd.databricks.v1+output": {
       "addedWidgets": {},
       "aggData": [],
       "aggError": "",
       "aggOverflow": false,
       "aggSchema": [],
       "aggSeriesLimitReached": false,
       "aggType": "",
       "arguments": {},
       "columnCustomDisplayInfos": {},
       "data": [
        [
         "dbfs:/FileStore/tables/csv_write/_SUCCESS",
         "_SUCCESS",
         0,
         1747742209000
        ],
        [
         "dbfs:/FileStore/tables/csv_write/_committed_1297779007834220118",
         "_committed_1297779007834220118",
         111,
         1747741180000
        ],
        [
         "dbfs:/FileStore/tables/csv_write/_committed_9107974242054770658",
         "_committed_9107974242054770658",
         208,
         1747742208000
        ],
        [
         "dbfs:/FileStore/tables/csv_write/_started_1297779007834220118",
         "_started_1297779007834220118",
         0,
         1747741179000
        ],
        [
         "dbfs:/FileStore/tables/csv_write/_started_9107974242054770658",
         "_started_9107974242054770658",
         0,
         1747742208000
        ],
        [
         "dbfs:/FileStore/tables/csv_write/part-00000-tid-9107974242054770658-d3df9f3b-65cb-4158-a157-4ca240f4c6dd-8-1-c000.csv",
         "part-00000-tid-9107974242054770658-d3df9f3b-65cb-4158-a157-4ca240f4c6dd-8-1-c000.csv",
         208,
         1747742208000
        ]
       ],
       "datasetInfos": [],
       "dbfsResultPath": null,
       "isJsonSchema": true,
       "metadata": {
        "isDbfsCommandResult": false
       },
       "overflow": false,
       "plotOptions": {
        "customPlotOptions": {},
        "displayType": "table",
        "pivotAggregation": null,
        "pivotColumns": null,
        "xColumns": null,
        "yColumns": null
       },
       "removedWidgets": [],
       "schema": [
        {
         "metadata": "{}",
         "name": "path",
         "type": "\"string\""
        },
        {
         "metadata": "{}",
         "name": "name",
         "type": "\"string\""
        },
        {
         "metadata": "{}",
         "name": "size",
         "type": "\"long\""
        },
        {
         "metadata": "{}",
         "name": "modificationTime",
         "type": "\"long\""
        }
       ],
       "type": "table"
      }
     },
     "output_type": "display_data"
    }
   ],
   "source": [
    "%fs\n",
    "ls /FileStore/tables/csv_write/"
   ]
  }
 ],
 "metadata": {
  "application/vnd.databricks.v1+notebook": {
   "computePreferences": null,
   "dashboards": [],
   "environmentMetadata": {
    "base_environment": "",
    "environment_version": "1"
   },
   "inputWidgetPreferences": null,
   "language": "python",
   "notebookMetadata": {
    "mostRecentlyExecutedCommandWithImplicitDF": {
     "commandId": 2458962454865561,
     "dataframes": [
      "_sqldf"
     ]
    },
    "pythonIndentUnit": 4
   },
   "notebookName": "Write DataFrame to a disk",
   "widgets": {}
  }
 },
 "nbformat": 4,
 "nbformat_minor": 0
}